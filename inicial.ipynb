{
 "cells": [
  {
   "cell_type": "markdown",
   "metadata": {},
   "source": [
    "# Analisando Dados com Python\n",
    "\n",
    "### Case - Cancelamento de Clientes\n",
    "\n",
    "Você foi contratado por uma empresa com mais de 800 mil clientes para um projeto de Dados. Recentemente a empresa percebeu que da sua base total de clientes, a maioria são clientes inativos, ou seja, que já cancelaram o serviço.\n",
    "\n",
    "Precisando melhorar seus resultados ela quer conseguir entender os principais motivos desses cancelamentos e quais as ações mais eficientes para reduzir esse número."
   ]
  },
  {
   "cell_type": "markdown",
   "metadata": {
    "vscode": {
     "languageId": "plaintext"
    }
   },
   "source": [
    "# Passo a passo do projeto\n",
    "# 1: Importar a base de dados de clientes\n",
    "# 2: Visualizar a base de dados\n",
    "# 3: Corrigir problemas da base de dados\n",
    "# 4: Analise dos cancelamentos\n",
    "# 5: Analise de causa dos cancelamentos"
   ]
  },
  {
   "cell_type": "code",
   "execution_count": null,
   "metadata": {},
   "outputs": [],
   "source": [
    "# 1: Importar a base de dados de clientes\n",
    "\n",
    "import pandas as pd\n",
    "tabela = pd.read_csv(\"cancelamentos.csv\")\n",
    "\n",
    "# 2: Visualizar a base de dados\n",
    "# colunas inuteis para resolução do problema \n",
    "\n",
    "tabela = tabela.drop(columns=\"CustomerID\")\n",
    "\n",
    "display (tabela)"
   ]
  },
  {
   "cell_type": "code",
   "execution_count": null,
   "metadata": {},
   "outputs": [],
   "source": [
    "# 3: Corrigir problemas da base de dados\n",
    "# valores vazios / erros de preenchimento\n",
    "\n",
    "display(tabela.info())\n",
    "tabela = tabela.dropna()\n",
    "display(tabela.info())"
   ]
  },
  {
   "cell_type": "code",
   "execution_count": null,
   "metadata": {},
   "outputs": [],
   "source": [
    "# 4: Analise dos cancelamentos\n",
    "\n",
    "display(tabela[\"cancelou\"].value_counts())\n",
    "\n",
    "display(tabela[\"cancelou\"].value_counts(normalize=True))\n"
   ]
  },
  {
   "cell_type": "code",
   "execution_count": null,
   "metadata": {},
   "outputs": [],
   "source": [
    "# 5: Analise de causa dos cancelamentos\n",
    "\n",
    "import plotly.express as px\n",
    "\n",
    "# criar o grafico\n",
    "# para cada coluna da tabela\n",
    "for coluna in tabela.columns:\n",
    "    grafico = px.histogram(tabela, x=coluna, color=\"cancelou\")\n",
    "# exibir o grafico\n",
    "    grafico.show()"
   ]
  },
  {
   "cell_type": "code",
   "execution_count": null,
   "metadata": {},
   "outputs": [],
   "source": [
    "# analise das causa de cancelamento\n",
    "\n",
    "    # se um cliente ligar mais de 4 vezes ele cancela\n",
    "        # criar um processo para resolver o problema do cliente caso ele tenha ligado mais de 3 vezes\n",
    "\n",
    "    # se um cliente atrasar o pagamento em mais de 20 dias ele cancela\n",
    "        # criar um processo para não deixar o cliente atrasar o pagamento mais de 20 dias \n",
    "\n",
    "    # os clientes de contrato mensal cancelam a assinatura\n",
    "        # oferecer descontos nos planos anuais e trimestrais\n",
    "\n",
    "\n",
    "# porcentagem de cancelamento após resolver os problemas apontados\n",
    "\n",
    "tabela = tabela[tabela[\"duracao_contrato\"]!=\"Monthly\"]  # sem duração do contrato anual\n",
    "tabela = tabela[tabela[\"ligacoes_callcenter\"]<=4] # sem ligação do call center acima de 4 vezes\n",
    "tabela = tabela[tabela[\"dias_atraso\"]<=20] # sem atraso de pagamento maior que 20 dias  \n",
    "\n",
    "display(tabela[\"cancelou\"].value_counts(normalize=True))"
   ]
  }
 ],
 "metadata": {
  "language_info": {
   "name": "python"
  }
 },
 "nbformat": 4,
 "nbformat_minor": 2
}
